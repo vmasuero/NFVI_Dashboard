{
 "cells": [
  {
   "cell_type": "code",
   "execution_count": 1,
   "metadata": {},
   "outputs": [],
   "source": [
    "import time\n",
    "import pandas as pd"
   ]
  },
  {
   "cell_type": "code",
   "execution_count": 2,
   "metadata": {},
   "outputs": [],
   "source": [
    "class Log_msg:\n",
    "    LOG_ORDER = -1\n",
    "    \n",
    "    def __init__(self, name, type_obj):\n",
    "        self.name = name\n",
    "        self.type_obj = type_obj\n",
    "        self.order = -1 \n",
    "        self.logs = []\n",
    "\n",
    "        \n",
    "    def log_msg(self, object_name, instance_name, msg):\n",
    "        self.logs.append({\n",
    "            'type': self.type_obj,\n",
    "            'owner': self.name,\n",
    "            'object_name': object_name,\n",
    "            'instance': instance_name,\n",
    "            'msg': msg,\n",
    "            'order': self.order + 1,\n",
    "            'timestamp': time.time()\n",
    "        })\n",
    "        \n",
    "        self.order += 1\n",
    "        \n",
    "        \n",
    "        \n",
    "    def get_info(self):\n",
    "        _ret = pd.DataFrame([], columns=['type','owner','object_name','instance','msg','timestamp'])\n",
    "        \n",
    "        for _log in self.logs:\n",
    "            _s = pd.Series({\n",
    "                'type': _log['type'],\n",
    "                'owner':_log['owner'],\n",
    "                'object_name': _log['object_name'],\n",
    "                'instance': _log['instance'],\n",
    "                'msg': _log['msg'],\n",
    "                'order': _log['order'],\n",
    "                'timestamp': _log['timestamp']\n",
    "            }, name= _log['order'])\n",
    "            \n",
    "            _ret = pd.concat([_ret, pd.DataFrame(_s).T])\n",
    "        \n",
    "        return pd.DataFrame(_ret)[['type','owner','object_name','instance','msg','timestamp']]\n",
    "    \n",
    "if False:  \n",
    "    L = Log_msg('prueba','top1')\n",
    "    L.log_msg('obj1','create','sos mismo')\n",
    "    L.log_msg('obj1','create','sos mismo')\n",
    "    L.log_msg('obj1','create','sos mismo')\n",
    "    L.log_msg('obj1','delete','ttttt mismo')\n",
    "    print(L.get_info())"
   ]
  },
  {
   "cell_type": "code",
   "execution_count": 3,
   "metadata": {
    "tags": [
     "COMPILE"
    ]
   },
   "outputs": [
    {
     "name": "stdout",
     "output_type": "stream",
     "text": [
      "/opt/conda/lib/python3.9/site-packages/traitlets/traitlets.py:2562: FutureWarning: --TagRemovePreprocessor.remove_cell_tags=['COMPILE'] for containers is deprecated in traitlets 5.0. You can pass `--TagRemovePreprocessor.remove_cell_tags item` ... multiple times to add items to a list.\n",
      "  warn(\n",
      "[NbConvertApp] Converting notebook LOG_MSG.ipynb to python\n",
      "[NbConvertApp] Writing 1639 bytes to LOG_MSG_1.py\n"
     ]
    }
   ],
   "source": [
    "!jupyter nbconvert \\\n",
    "    --TagRemovePreprocessor.enabled=True \\\n",
    "    --TagRemovePreprocessor.remove_cell_tags=\"['COMPILE']\" \\\n",
    "    --TemplateExporter.exclude_markdown=True \\\n",
    "    --to python \"LOG_MSG.ipynb\" --output LOG_MSG_1\n",
    "\n",
    "!sed 's/env\\ python/env python3/' LOG_MSG_1.py > LOG_MSG.py\n",
    "!rm LOG_MSG_1.py"
   ]
  }
 ],
 "metadata": {
  "celltoolbar": "Tags",
  "kernelspec": {
   "display_name": "Python 3 (ipykernel)",
   "language": "python",
   "name": "python3"
  },
  "language_info": {
   "codemirror_mode": {
    "name": "ipython",
    "version": 3
   },
   "file_extension": ".py",
   "mimetype": "text/x-python",
   "name": "python",
   "nbconvert_exporter": "python",
   "pygments_lexer": "ipython3",
   "version": "3.9.10"
  }
 },
 "nbformat": 4,
 "nbformat_minor": 4
}
