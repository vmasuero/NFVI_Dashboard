{
 "cells": [
  {
   "cell_type": "code",
   "execution_count": 1,
   "metadata": {},
   "outputs": [],
   "source": [
    "import re\n",
    "import pandas as pd"
   ]
  },
  {
   "cell_type": "code",
   "execution_count": 2,
   "metadata": {},
   "outputs": [],
   "source": [
    "class Flavor_VM:\n",
    "    def __init__(self, name:int, vcpus:int, memory:int, ssd=False, sriov=False):\n",
    "        self.name = name\n",
    "        self.vcpus = vcpus\n",
    "        self.memory = memory\n",
    "        self.ssd = ssd\n",
    "        self.sriov = sriov\n",
    "        \n",
    "    def get_info(self):\n",
    "        return pd.DataFrame([{\n",
    "            'name': self.name,\n",
    "            'vcpus': self.vcpus,\n",
    "            'memory':self.memory,\n",
    "            'ssd': self.ssd,\n",
    "            'sriov': self.sriov\n",
    "        }])\n",
    "        \n",
    "class VM:\n",
    "    def __init__(self, name, component, vnf, flavor: Flavor_VM, avz='default', datacenter='default', node_select='', affinity=[], antiaffinity=[]):\n",
    "        self.name = name\n",
    "        self.component = component\n",
    "        self.vnf = vnf\n",
    "        self.avz = avz\n",
    "        self.datacenter = datacenter\n",
    "        self.node_select = node_select if re.match(r'(.*)[a-zA-Z]+',node_select) else 'NO_NODE_SELECT'\n",
    "        self.flavor = flavor\n",
    "        self.affinity = affinity\n",
    "        self.antiaffinity = antiaffinity\n",
    "        \n",
    "        self.status = 'not_deployed'\n",
    "        self.core_deployed = None\n",
    "        self.server_deployed = None\n",
    "        self.id = None\n",
    "\n",
    "        \n",
    "    def get_info(self):\n",
    "        return pd.DataFrame([{\n",
    "            'server_deployed': self.server_deployed.name if self.server_deployed else None ,\n",
    "            'vm': self.name,\n",
    "            'component': self.component,\n",
    "            'vnf': self.vnf,\n",
    "            'vcpus': self.flavor.vcpus,\n",
    "            'memory': self.flavor.memory,\n",
    "            'processor_deployed': self.core_deployed,\n",
    "            'node_select': self.node_select,\n",
    "            'avz': self.avz,\n",
    "            'datacenter': self.datacenter,\n",
    "            'status': self.status,\n",
    "            'affinity': self.affinity,\n",
    "            'antiaffinity': self.antiaffinity,\n",
    "            'id': int(self.id),\n",
    "            'server_cluster_id': int(self.server_deployed.id) if self.server_deployed else None\n",
    "        }])\n",
    "    \n",
    "    def get_copy(self):\n",
    "        return VM(self.name, self.component, self.vnf, self.flavor, self.avz, self.datacenter, self.node_select, self.affinity, self.antiaffinity)\n",
    "    \n",
    "if False:\n",
    "    FLAVORS_VM = []\n",
    "    FLAVORS_VM.append(Flavor_VM(99, 40, 2048))\n",
    "    \n",
    "    display(FLAVORS_VM[0].get_info())\n",
    "    \n",
    "    V1 = VM('vm_1','comp','vnf', FLAVORS_VM[0], avz='avz', datacenter='ESB')#.get_copy()\n",
    "    V1_b = V1.get_copy()\n",
    "    V1_b.name = 'copia'\n",
    "    display(V1.get_info())\n",
    "    display(V1_b.get_info())\n",
    "    fffffffff"
   ]
  },
  {
   "cell_type": "code",
   "execution_count": 3,
   "metadata": {
    "tags": [
     "COMPILE"
    ]
   },
   "outputs": [
    {
     "name": "stdout",
     "output_type": "stream",
     "text": [
      "/opt/conda/lib/python3.9/site-packages/traitlets/traitlets.py:2562: FutureWarning: --TagRemovePreprocessor.remove_cell_tags=['COMPILE'] for containers is deprecated in traitlets 5.0. You can pass `--TagRemovePreprocessor.remove_cell_tags item` ... multiple times to add items to a list.\n",
      "  warn(\n",
      "[NbConvertApp] Converting notebook VMs.ipynb to python\n",
      "[NbConvertApp] Writing 2493 bytes to VMs_1.py\n"
     ]
    }
   ],
   "source": [
    "!jupyter nbconvert \\\n",
    "    --TagRemovePreprocessor.enabled=True \\\n",
    "    --TagRemovePreprocessor.remove_cell_tags=\"['COMPILE']\" \\\n",
    "    --TemplateExporter.exclude_markdown=True \\\n",
    "    --to python \"VMs.ipynb\" --output VMs_1\n",
    "\n",
    "!sed 's/env\\ python/env python3/' VMs_1.py > VMs.py\n",
    "!rm VMs_1.py"
   ]
  }
 ],
 "metadata": {
  "celltoolbar": "Tags",
  "kernelspec": {
   "display_name": "Python 3 (ipykernel)",
   "language": "python",
   "name": "python3"
  },
  "language_info": {
   "codemirror_mode": {
    "name": "ipython",
    "version": 3
   },
   "file_extension": ".py",
   "mimetype": "text/x-python",
   "name": "python",
   "nbconvert_exporter": "python",
   "pygments_lexer": "ipython3",
   "version": "3.9.10"
  }
 },
 "nbformat": 4,
 "nbformat_minor": 4
}
