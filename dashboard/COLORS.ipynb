{
 "cells": [
  {
   "cell_type": "code",
   "execution_count": 1,
   "metadata": {},
   "outputs": [
    {
     "name": "stdout",
     "output_type": "stream",
     "text": [
      "['sandybrown', 'royalblue', 'lemonchiffon', 'darkgoldenrod', 'aqua', 'silver', 'azure', 'gold', 'antiquewhite', 'lightslategrey', 'lightgreen', 'palegreen', 'teal', 'greenyellow', 'papayawhip', 'grey', 'mediumslateblue', 'lightsteelblue', 'tan', 'mediumspringgreen', 'lightslategray', 'skyblue', 'lightblue', 'darkolivegreen', 'palevioletred', 'chocolate', 'forestgreen', 'honeydew', 'darkslategray', 'orange', 'gray', 'limegreen', 'cadetblue', 'darkgrey', 'lavenderblush', 'firebrick', 'powderblue', 'olivedrab', 'lavender', 'sienna', 'bisque', 'linen', 'lightseagreen', 'dimgray', 'darkmagenta', 'darkgray', 'springgreen', 'darkblue', 'coral', 'pink', 'mistyrose', 'darksalmon', 'deeppink', 'lawngreen', 'black', 'aquamarine', 'turquoise', 'lightgoldenrodyellow', 'mediumorchid', 'wheat', 'lightskyblue', 'dodgerblue', 'peachpuff', 'navy', 'saddlebrown', 'goldenrod', 'midnightblue', 'indianred', 'yellow', 'seagreen', 'cornsilk', 'lightpink', 'cornflowerblue', 'darkred', 'lime', 'mediumblue', 'crimson', 'lightyellow', 'oldlace', 'ivory', 'darkslategrey', 'snow', 'violet', 'cyan', 'burlywood', 'olive', 'fuchsia', 'beige', 'navajowhite', 'slategray', 'lightgrey', 'moccasin', 'blanchedalmond', 'lightcoral', 'whitesmoke', 'plum', 'hotpink', 'purple', 'brown', 'thistle', 'yellowgreen', 'slategrey', 'white', 'slateblue', 'red', 'indigo', 'mintcream', 'darkgreen', 'ghostwhite', 'blueviolet', 'lightsalmon', 'aliceblue', 'khaki', 'mediumseagreen', 'darkturquoise', 'blue', 'darkorchid', 'mediumaquamarine', 'mediumvioletred', 'seashell', 'lightcyan', 'darkviolet', 'gainsboro', 'palegoldenrod', 'chartreuse', 'dimgrey', 'steelblue', 'orangered', 'darkslateblue', 'darkseagreen', 'darkcyan', 'mediumturquoise', 'lightgray', 'orchid', 'darkorange', 'darkkhaki', 'peru', 'magenta', 'floralwhite', 'green', 'mediumpurple', 'salmon', 'deepskyblue', 'maroon', 'paleturquoise', 'tomato', 'rosybrown']\n"
     ]
    }
   ],
   "source": [
    "from random import shuffle\n",
    "\n",
    "COLORS_RAW ='''\n",
    "        aliceblue, antiquewhite, aqua, aquamarine, azure,\n",
    "        beige, bisque, black, blanchedalmond, blue,\n",
    "        blueviolet, brown, burlywood, cadetblue,\n",
    "        chartreuse, chocolate, coral, cornflowerblue,\n",
    "        cornsilk, crimson, cyan, darkblue, darkcyan,\n",
    "        darkgoldenrod, darkgray, darkgrey, darkgreen,\n",
    "        darkkhaki, darkmagenta, darkolivegreen, darkorange,\n",
    "        darkorchid, darkred, darksalmon, darkseagreen,\n",
    "        darkslateblue, darkslategray, darkslategrey,\n",
    "        darkturquoise, darkviolet, deeppink, deepskyblue,\n",
    "        dimgray, dimgrey, dodgerblue, firebrick,\n",
    "        floralwhite, forestgreen, fuchsia, gainsboro,\n",
    "        ghostwhite, gold, goldenrod, gray, grey, green,\n",
    "        greenyellow, honeydew, hotpink, indianred, indigo,\n",
    "        ivory, khaki, lavender, lavenderblush, lawngreen,\n",
    "        lemonchiffon, lightblue, lightcoral, lightcyan,\n",
    "        lightgoldenrodyellow, lightgray, lightgrey,\n",
    "        lightgreen, lightpink, lightsalmon, lightseagreen,\n",
    "        lightskyblue, lightslategray, lightslategrey,\n",
    "        lightsteelblue, lightyellow, lime, limegreen,\n",
    "        linen, magenta, maroon, mediumaquamarine,\n",
    "        mediumblue, mediumorchid, mediumpurple,\n",
    "        mediumseagreen, mediumslateblue, mediumspringgreen,\n",
    "        mediumturquoise, mediumvioletred, midnightblue,\n",
    "        mintcream, mistyrose, moccasin, navajowhite, navy,\n",
    "        oldlace, olive, olivedrab, orange, orangered,\n",
    "        orchid, palegoldenrod, palegreen, paleturquoise,\n",
    "        palevioletred, papayawhip, peachpuff, peru, pink,\n",
    "        plum, powderblue, purple, red, rosybrown,\n",
    "        royalblue, saddlebrown, salmon, sandybrown,\n",
    "        seagreen, seashell, sienna, silver, skyblue,\n",
    "        slateblue, slategray, slategrey, snow, springgreen,\n",
    "        steelblue, tan, teal, thistle, tomato, turquoise,\n",
    "        violet, wheat, white, whitesmoke, yellow,\n",
    "        yellowgreen\n",
    "        '''\n",
    "COLORS = COLORS_RAW.split(',')\n",
    "shuffle(COLORS)\n",
    "COLORS = [l.replace('\\n','') for l in COLORS]\n",
    "COLORS = [l.replace(' ','') for l in COLORS]\n",
    "print(COLORS)"
   ]
  },
  {
   "cell_type": "code",
   "execution_count": 2,
   "metadata": {
    "tags": [
     "COMPILE"
    ]
   },
   "outputs": [
    {
     "name": "stdout",
     "output_type": "stream",
     "text": [
      "/opt/conda/lib/python3.9/site-packages/traitlets/traitlets.py:2562: FutureWarning: --TagRemovePreprocessor.remove_cell_tags=['COMPILE'] for containers is deprecated in traitlets 5.0. You can pass `--TagRemovePreprocessor.remove_cell_tags item` ... multiple times to add items to a list.\n",
      "  warn(\n",
      "[NbConvertApp] Converting notebook COLORS.ipynb to python\n",
      "[NbConvertApp] Writing 2127 bytes to COLORS_1.py\n"
     ]
    }
   ],
   "source": [
    "!jupyter nbconvert \\\n",
    "    --TagRemovePreprocessor.enabled=True \\\n",
    "    --TagRemovePreprocessor.remove_cell_tags=\"['COMPILE']\" \\\n",
    "    --TemplateExporter.exclude_markdown=True \\\n",
    "    --to python \"COLORS.ipynb\" --output COLORS_1\n",
    "\n",
    "!sed 's/env\\ python/env python3/' COLORS_1.py > COLORS.py\n",
    "!rm COLORS_1.py"
   ]
  }
 ],
 "metadata": {
  "celltoolbar": "Tags",
  "kernelspec": {
   "display_name": "Python 3 (ipykernel)",
   "language": "python",
   "name": "python3"
  },
  "language_info": {
   "codemirror_mode": {
    "name": "ipython",
    "version": 3
   },
   "file_extension": ".py",
   "mimetype": "text/x-python",
   "name": "python",
   "nbconvert_exporter": "python",
   "pygments_lexer": "ipython3",
   "version": "3.9.10"
  }
 },
 "nbformat": 4,
 "nbformat_minor": 4
}
